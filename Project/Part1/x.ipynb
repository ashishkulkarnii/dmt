{
 "cells": [
  {
   "cell_type": "markdown",
   "id": "00977561",
   "metadata": {},
   "source": [
    "# Project Part I\n",
    "\n",
    "Data Mining Techniques (CS235)\n",
    "\n",
    "Name: Ashish Kulkarni\n",
    "\n",
    "Student ID: 862637808"
   ]
  },
  {
   "cell_type": "markdown",
   "id": "57a19bbe",
   "metadata": {},
   "source": [
    "Installing the UCI ML Python library, which allows us to directly import the [Breast Cancer Wisconsin (Diagnostic)](https://archive.ics.uci.edu/dataset/17/breast+cancer+wisconsin+diagnostic) dataset."
   ]
  },
  {
   "cell_type": "code",
   "execution_count": 1,
   "id": "42f74cfb",
   "metadata": {},
   "outputs": [
    {
     "name": "stdout",
     "output_type": "stream",
     "text": [
      "Collecting ucimlrepo\n",
      "  Downloading ucimlrepo-0.0.7-py3-none-any.whl.metadata (5.5 kB)\n",
      "Requirement already satisfied: pandas>=1.0.0 in c:\\users\\kulka\\appdata\\local\\programs\\python\\python313\\lib\\site-packages (from ucimlrepo) (2.3.3)\n",
      "Collecting certifi>=2020.12.5 (from ucimlrepo)\n",
      "  Downloading certifi-2025.10.5-py3-none-any.whl.metadata (2.5 kB)\n",
      "Requirement already satisfied: numpy>=1.26.0 in c:\\users\\kulka\\appdata\\local\\programs\\python\\python313\\lib\\site-packages (from pandas>=1.0.0->ucimlrepo) (2.3.3)\n",
      "Requirement already satisfied: python-dateutil>=2.8.2 in c:\\users\\kulka\\appdata\\roaming\\python\\python313\\site-packages (from pandas>=1.0.0->ucimlrepo) (2.9.0.post0)\n",
      "Requirement already satisfied: pytz>=2020.1 in c:\\users\\kulka\\appdata\\local\\programs\\python\\python313\\lib\\site-packages (from pandas>=1.0.0->ucimlrepo) (2025.2)\n",
      "Requirement already satisfied: tzdata>=2022.7 in c:\\users\\kulka\\appdata\\local\\programs\\python\\python313\\lib\\site-packages (from pandas>=1.0.0->ucimlrepo) (2025.2)\n",
      "Requirement already satisfied: six>=1.5 in c:\\users\\kulka\\appdata\\roaming\\python\\python313\\site-packages (from python-dateutil>=2.8.2->pandas>=1.0.0->ucimlrepo) (1.17.0)\n",
      "Downloading ucimlrepo-0.0.7-py3-none-any.whl (8.0 kB)\n",
      "Downloading certifi-2025.10.5-py3-none-any.whl (163 kB)\n",
      "Installing collected packages: certifi, ucimlrepo\n",
      "Successfully installed certifi-2025.10.5 ucimlrepo-0.0.7\n",
      "Note: you may need to restart the kernel to use updated packages.\n"
     ]
    },
    {
     "name": "stderr",
     "output_type": "stream",
     "text": [
      "\n",
      "[notice] A new release of pip is available: 25.0.1 -> 25.2\n",
      "[notice] To update, run: python.exe -m pip install --upgrade pip\n"
     ]
    }
   ],
   "source": [
    "%pip install ucimlrepo"
   ]
  },
  {
   "cell_type": "markdown",
   "id": "0726d9b6",
   "metadata": {},
   "source": [
    "Importing required libraries"
   ]
  },
  {
   "cell_type": "code",
   "execution_count": 3,
   "id": "48d47ae8",
   "metadata": {},
   "outputs": [],
   "source": [
    "from pprint import pprint"
   ]
  },
  {
   "cell_type": "markdown",
   "id": "a245e83f",
   "metadata": {},
   "source": [
    "Importing the dataset into the notebook"
   ]
  },
  {
   "cell_type": "code",
   "execution_count": 7,
   "id": "4e265303",
   "metadata": {},
   "outputs": [
    {
     "name": "stdout",
     "output_type": "stream",
     "text": [
      "{'abstract': 'Diagnostic Wisconsin Breast Cancer Database.',\n",
      " 'additional_info': {'citation': None,\n",
      "                     'funded_by': None,\n",
      "                     'instances_represent': None,\n",
      "                     'preprocessing_description': None,\n",
      "                     'purpose': None,\n",
      "                     'recommended_data_splits': None,\n",
      "                     'sensitive_data': None,\n",
      "                     'summary': 'Features are computed from a digitized image '\n",
      "                                'of a fine needle aspirate (FNA) of a breast '\n",
      "                                'mass.  They describe characteristics of the '\n",
      "                                'cell nuclei present in the image. A few of '\n",
      "                                'the images can be found at '\n",
      "                                'http://www.cs.wisc.edu/~street/images/\\r\\n'\n",
      "                                '\\r\\n'\n",
      "                                'Separating plane described above was obtained '\n",
      "                                'using Multisurface Method-Tree (MSM-T) [K. P. '\n",
      "                                'Bennett, \"Decision Tree Construction Via '\n",
      "                                'Linear Programming.\" Proceedings of the 4th '\n",
      "                                'Midwest Artificial Intelligence and Cognitive '\n",
      "                                'Science Society, pp. 97-101, 1992], a '\n",
      "                                'classification method which uses linear '\n",
      "                                'programming to construct a decision tree.  '\n",
      "                                'Relevant features were selected using an '\n",
      "                                'exhaustive search in the space of 1-4 '\n",
      "                                'features and 1-3 separating planes.\\r\\n'\n",
      "                                '\\r\\n'\n",
      "                                'The actual linear program used to obtain the '\n",
      "                                'separating plane in the 3-dimensional space '\n",
      "                                'is that described in: [K. P. Bennett and O. '\n",
      "                                'L. Mangasarian: \"Robust Linear Programming '\n",
      "                                'Discrimination of Two Linearly Inseparable '\n",
      "                                'Sets\", Optimization Methods and Software 1, '\n",
      "                                '1992, 23-34].\\r\\n'\n",
      "                                '\\r\\n'\n",
      "                                'This database is also available through the '\n",
      "                                'UW CS ftp server:\\r\\n'\n",
      "                                'ftp ftp.cs.wisc.edu\\r\\n'\n",
      "                                'cd math-prog/cpo-dataset/machine-learn/WDBC/',\n",
      "                     'variable_info': '1) ID number\\r\\n'\n",
      "                                      '2) Diagnosis (M = malignant, B = '\n",
      "                                      'benign)\\r\\n'\n",
      "                                      '3-32)\\r\\n'\n",
      "                                      '\\r\\n'\n",
      "                                      'Ten real-valued features are computed '\n",
      "                                      'for each cell nucleus:\\r\\n'\n",
      "                                      '\\r\\n'\n",
      "                                      '\\ta) radius (mean of distances from '\n",
      "                                      'center to points on the perimeter)\\r\\n'\n",
      "                                      '\\tb) texture (standard deviation of '\n",
      "                                      'gray-scale values)\\r\\n'\n",
      "                                      '\\tc) perimeter\\r\\n'\n",
      "                                      '\\td) area\\r\\n'\n",
      "                                      '\\te) smoothness (local variation in '\n",
      "                                      'radius lengths)\\r\\n'\n",
      "                                      '\\tf) compactness (perimeter^2 / area - '\n",
      "                                      '1.0)\\r\\n'\n",
      "                                      '\\tg) concavity (severity of concave '\n",
      "                                      'portions of the contour)\\r\\n'\n",
      "                                      '\\th) concave points (number of concave '\n",
      "                                      'portions of the contour)\\r\\n'\n",
      "                                      '\\ti) symmetry \\r\\n'\n",
      "                                      '\\tj) fractal dimension (\"coastline '\n",
      "                                      'approximation\" - 1)'},\n",
      " 'area': 'Health and Medicine',\n",
      " 'characteristics': ['Multivariate'],\n",
      " 'creators': ['William Wolberg',\n",
      "              'Olvi Mangasarian',\n",
      "              'Nick Street',\n",
      "              'W. Street'],\n",
      " 'data_url': 'https://archive.ics.uci.edu/static/public/17/data.csv',\n",
      " 'dataset_doi': '10.24432/C5DW2B',\n",
      " 'demographics': [],\n",
      " 'feature_types': ['Real'],\n",
      " 'has_missing_values': 'no',\n",
      " 'index_col': ['ID'],\n",
      " 'intro_paper': {'DOI': '10.1117/12.148698',\n",
      "                 'ID': 230,\n",
      "                 'URL': 'https://www.semanticscholar.org/paper/53f0fbb425bc14468eb3bf96b2e1d41ba8087f36',\n",
      "                 'acl': None,\n",
      "                 'arxiv': None,\n",
      "                 'authors': 'W. Street, W. Wolberg, O. Mangasarian',\n",
      "                 'corpus': None,\n",
      "                 'journal': None,\n",
      "                 'mag': None,\n",
      "                 'pmcid': None,\n",
      "                 'pmid': None,\n",
      "                 'sha': None,\n",
      "                 'title': 'Nuclear feature extraction for breast tumor '\n",
      "                          'diagnosis',\n",
      "                 'type': 'NATIVE',\n",
      "                 'venue': 'Electronic imaging',\n",
      "                 'year': 1993},\n",
      " 'last_updated': 'Fri Nov 03 2023',\n",
      " 'missing_values_symbol': None,\n",
      " 'name': 'Breast Cancer Wisconsin (Diagnostic)',\n",
      " 'num_features': 30,\n",
      " 'num_instances': 569,\n",
      " 'repository_url': 'https://archive.ics.uci.edu/dataset/17/breast+cancer+wisconsin+diagnostic',\n",
      " 'target_col': ['Diagnosis'],\n",
      " 'tasks': ['Classification'],\n",
      " 'uci_id': 17,\n",
      " 'year_of_dataset_creation': 1993}\n"
     ]
    }
   ],
   "source": [
    "from ucimlrepo import fetch_ucirepo\n",
    "\n",
    "# fetch dataset\n",
    "breast_cancer_wisconsin_diagnostic = fetch_ucirepo(id=17)\n",
    "\n",
    "# data (as pandas dataframes)\n",
    "X = breast_cancer_wisconsin_diagnostic.data.features\n",
    "y = breast_cancer_wisconsin_diagnostic.data.targets\n",
    "\n",
    "# metadata\n",
    "pprint(breast_cancer_wisconsin_diagnostic.metadata)"
   ]
  },
  {
   "cell_type": "markdown",
   "id": "2557c5a5",
   "metadata": {},
   "source": [
    "## Supervised Techniques"
   ]
  },
  {
   "cell_type": "markdown",
   "id": "e2aaef4f",
   "metadata": {},
   "source": [
    "### Simple Classifiers"
   ]
  },
  {
   "cell_type": "markdown",
   "id": "8b59c3a1",
   "metadata": {},
   "source": [
    "### Dimensionality reduction with the SVD (Singular Value Decomposition)"
   ]
  },
  {
   "cell_type": "markdown",
   "id": "22f36217",
   "metadata": {},
   "source": [
    "### Feature selection with randomization"
   ]
  },
  {
   "cell_type": "markdown",
   "id": "1b7bd4c7",
   "metadata": {},
   "source": [
    "### Data augmentation using SMOTE"
   ]
  },
  {
   "cell_type": "markdown",
   "id": "f2745831",
   "metadata": {},
   "source": [
    "## Unsupervised Techniques"
   ]
  },
  {
   "cell_type": "markdown",
   "id": "f80eab58",
   "metadata": {},
   "source": [
    "### k-means clustering"
   ]
  },
  {
   "cell_type": "markdown",
   "id": "a92e1833",
   "metadata": {},
   "source": [
    "### Density-based clustering with DBSCAN\n",
    "\n",
    "(Density-Based Spatial Clustering of Applications with Noise)"
   ]
  },
  {
   "cell_type": "markdown",
   "id": "4aa7f081",
   "metadata": {},
   "source": [
    "### Graph-based clustering with Spectral Clustering"
   ]
  },
  {
   "cell_type": "markdown",
   "id": "50ae607d",
   "metadata": {},
   "source": [
    "### Anomaly detection with Isolation Forest (iForest)"
   ]
  }
 ],
 "metadata": {
  "kernelspec": {
   "display_name": "Python 3",
   "language": "python",
   "name": "python3"
  },
  "language_info": {
   "codemirror_mode": {
    "name": "ipython",
    "version": 3
   },
   "file_extension": ".py",
   "mimetype": "text/x-python",
   "name": "python",
   "nbconvert_exporter": "python",
   "pygments_lexer": "ipython3",
   "version": "3.13.3"
  }
 },
 "nbformat": 4,
 "nbformat_minor": 5
}
